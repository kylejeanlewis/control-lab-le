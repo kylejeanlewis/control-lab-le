{
 "cells": [
  {
   "attachments": {},
   "cell_type": "markdown",
   "metadata": {},
   "source": [
    "# Tutorial"
   ]
  },
  {
   "attachments": {},
   "cell_type": "markdown",
   "metadata": {},
   "source": [
    "Below is a tutorial on how to use the objects methods in `controllable`.\\\n",
    "Use `help()` to get more details on each object / method.\\\n",
    "(i.e. `help(mover.moveTo)`)"
   ]
  },
  {
   "attachments": {},
   "cell_type": "markdown",
   "metadata": {},
   "source": [
    "## Initialise"
   ]
  },
  {
   "attachments": {},
   "cell_type": "markdown",
   "metadata": {},
   "source": [
    "Change the `REPO` variable to the name of the current repository."
   ]
  },
  {
   "cell_type": "code",
   "execution_count": null,
   "metadata": {},
   "outputs": [],
   "source": [
    "import pandas as pd\n",
    "import plotly.express as px # pip install plotly-express\n",
    "import time\n",
    "pd.options.plotting.backend = 'plotly'\n",
    "\n",
    "import os\n",
    "import sys\n",
    "REPO = 'control-lab-le'\n",
    "here = '/'.join(os.path.abspath('').split('\\\\')[:-1])\n",
    "root = here.split(REPO)[0]\n",
    "sys.path.append(f'{root}{REPO}')\n",
    "\n",
    "from controllable.builds.SynthesisB1 import program\n",
    "\n",
    "this = program.create_setup()\n",
    "this.mover.verbose = False"
   ]
  },
  {
   "attachments": {},
   "cell_type": "markdown",
   "metadata": {},
   "source": [
    "`this` contains objects such as `setup`, `mover`, `liquid`, `balance`, and `camera`."
   ]
  },
  {
   "attachments": {},
   "cell_type": "markdown",
   "metadata": {},
   "source": [
    "## Deck attributes and methods"
   ]
  },
  {
   "cell_type": "code",
   "execution_count": null,
   "metadata": {},
   "outputs": [],
   "source": [
    "deck = this.setup.deck\n",
    "print(deck)\n",
    "print('\\n')\n",
    "print(deck.slots['2'])\n",
    "print(deck.get_slot(name='tip_rack'))\n",
    "print(deck.get_slot(name='tip_rack').wells['A1'])\n",
    "print(deck.get_slot(name='tip_rack').get_well('B3'))\n",
    "print(f\"Center: {deck.slots['3'].wells['A1'].center}\")\n",
    "print(f\"Top: {deck.slots['3'].wells['A1'].top}\")\n",
    "print(f\"Middle: {deck.slots['3'].wells['A1'].middle}\")\n",
    "print(f\"Bottom: {deck.slots['3'].wells['A1'].bottom}\")\n",
    "print(f\"Depth: {deck.slots['3'].wells['A1'].depth}\")\n",
    "print(f\"Offset: {deck.slots['3'].wells['A1'].offset}\")"
   ]
  },
  {
   "attachments": {},
   "cell_type": "markdown",
   "metadata": {},
   "source": [
    "## Setup methods"
   ]
  },
  {
   "attachments": {},
   "cell_type": "markdown",
   "metadata": {},
   "source": [
    "Key methods are `attachTip`, `ejectTip`, \\\n",
    "and `attachTipAt`, `ejectTipAt`, `aspirateAt`, `dispenseAt`."
   ]
  },
  {
   "cell_type": "code",
   "execution_count": null,
   "metadata": {},
   "outputs": [],
   "source": [
    "setup = this.setup\n",
    "coord = setup.attachTip()\n",
    "setup.aspirateAt(coordinates=setup.deck.slots['3'].wells['A1'].middle, volume=200, speed=200)\n",
    "setup.dispenseAt(coordinates=setup.deck.slots['3'].wells['A1'].middle, volume=200, speed=150)\n",
    "setup.ejectTipAt(coordinates=(*coord[:2],coord[2]-18))"
   ]
  },
  {
   "attachments": {},
   "cell_type": "markdown",
   "metadata": {},
   "source": [
    "## Mover methods"
   ]
  },
  {
   "attachments": {},
   "cell_type": "markdown",
   "metadata": {},
   "source": [
    "Key methods are `move`, `moveBy`, `moveTo`, `safeMoveTo`, \\\n",
    "and `home`, `getPosition`, `getToolPosition`, `getWorkspacePosition`."
   ]
  },
  {
   "cell_type": "code",
   "execution_count": null,
   "metadata": {},
   "outputs": [],
   "source": [
    "mover = this.mover\n",
    "print(f\"Robot position: {mover.getPosition()}\")\n",
    "print(f\"Workspace position: {mover.getWorkspacePosition()}\")\n",
    "print(f\"Tool tip position: {mover.getToolPosition()}\")\n",
    "\n",
    "mover.home()\n",
    "mover.move(axis='z', value=10, speed_fraction=0.3)\n",
    "mover.moveBy(vector=(10,10,10), angles=(-10,0,0))\n",
    "mover.moveTo(coordinates=(450,0,150), orientation=(10,0,0), tool_offset=True)"
   ]
  },
  {
   "attachments": {},
   "cell_type": "markdown",
   "metadata": {},
   "source": [
    "## Liquid methods"
   ]
  },
  {
   "attachments": {},
   "cell_type": "markdown",
   "metadata": {},
   "source": [
    "Key methods are `aspirate`, `dispense`, `blowout`, \\\n",
    "and `eject`, `home`, `zero`.\\\n",
    "\\\n",
    "Key attributes are `speed` and `position`."
   ]
  },
  {
   "cell_type": "code",
   "execution_count": null,
   "metadata": {},
   "outputs": [],
   "source": [
    "liquid = this.liquid\n",
    "print(f\"Speed: {liquid.speed}\")\n",
    "print(f\"Position: {liquid.position}\")\n",
    "\n",
    "liquid.eject()\n",
    "liquid.zero()\n",
    "liquid.home()"
   ]
  },
  {
   "attachments": {},
   "cell_type": "markdown",
   "metadata": {},
   "source": [
    "## Balance methods"
   ]
  },
  {
   "attachments": {},
   "cell_type": "markdown",
   "metadata": {},
   "source": [
    "Key methods are `getMass`, `toggleRecord`, `zero`, \\\n",
    "and `reset`, `clearCache`.\\\n",
    "\\\n",
    "Key attributes are `buffer_df` and `mass`."
   ]
  },
  {
   "cell_type": "code",
   "execution_count": null,
   "metadata": {},
   "outputs": [],
   "source": [
    "balance = this.balance\n",
    "\n",
    "balance.getMass()\n",
    "print(f\"Mass: {balance.mass}\")\n",
    "\n",
    "balance.zero(wait=5)\n",
    "balance.clearCache()\n",
    "balance.toggleRecord(on=True)\n",
    "balance.toggleRecord(on=False)\n",
    "print(f\"Buffer: \\n{balance.buffer_df}\")\n",
    "balance.buffer_df.plot(x='Time', y='Mass')\n",
    "\n",
    "balance.reset()"
   ]
  },
  {
   "attachments": {},
   "cell_type": "markdown",
   "metadata": {},
   "source": [
    "## Camera methods"
   ]
  },
  {
   "attachments": {},
   "cell_type": "markdown",
   "metadata": {},
   "source": [
    "Key methods are `getImage`, `toggleRecord`, `saveImage`."
   ]
  },
  {
   "cell_type": "code",
   "execution_count": null,
   "metadata": {},
   "outputs": [],
   "source": [
    "camera = this.camera\n",
    "_, image = camera.getImage()\n",
    "fig = px.imshow(image.convertToRGB().frame)\n",
    "fig.show()\n",
    "camera.saveImage(frame=image.frame, filename='image.png')\n",
    "\n",
    "camera.toggleRecord(on=True, folder='temp/', timeout=1)\n",
    "time.sleep(3)\n",
    "camera.toggleRecord(on=False)   # Manually stop recording if timeout is not set during trigger"
   ]
  },
  {
   "cell_type": "code",
   "execution_count": null,
   "metadata": {},
   "outputs": [],
   "source": []
  }
 ],
 "metadata": {
  "kernelspec": {
   "display_name": "base",
   "language": "python",
   "name": "python3"
  },
  "language_info": {
   "codemirror_mode": {
    "name": "ipython",
    "version": 3
   },
   "file_extension": ".py",
   "mimetype": "text/x-python",
   "name": "python",
   "nbconvert_exporter": "python",
   "pygments_lexer": "ipython3",
   "version": "3.8.8"
  },
  "orig_nbformat": 4,
  "vscode": {
   "interpreter": {
    "hash": "740814a7fbf39cc38b2b93a989ee8c4e41c9d4a20466fb758b8b2430220aefa3"
   }
  }
 },
 "nbformat": 4,
 "nbformat_minor": 2
}
